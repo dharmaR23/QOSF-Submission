{
 "cells": [
  {
   "cell_type": "code",
   "execution_count": 1,
   "id": "ce5d7f16-0d14-4ebf-bcdc-aef5ac623329",
   "metadata": {},
   "outputs": [],
   "source": [
    "import numpy as np\n",
    "import qutip as qt\n",
    "import datetime as dt\n",
    "import matplotlib.pyplot as plt\n",
    "import time\n",
    "from tqdm import tqdm\n",
    "from qutip.measurement import measure, measurement_statistics"
   ]
  },
  {
   "cell_type": "code",
   "execution_count": 2,
   "id": "1700876a-2d10-4170-8479-242ab107fd59",
   "metadata": {},
   "outputs": [],
   "source": [
    "plt.rcParams.update({\n",
    "    \"text.usetex\": True,\n",
    "    \"font.family\": \"serif\"\n",
    "})\n",
    "plt.rcParams['figure.figsize'] = [5, 3]"
   ]
  },
  {
   "cell_type": "code",
   "execution_count": null,
   "id": "51932e16-88f2-45bb-b7ee-50bd9abadd42",
   "metadata": {},
   "outputs": [],
   "source": []
  },
  {
   "cell_type": "markdown",
   "id": "411e377e-4ac1-4c8e-9d37-f1f2af89c33b",
   "metadata": {},
   "source": [
    "# Three gates"
   ]
  },
  {
   "cell_type": "code",
   "execution_count": 3,
   "id": "80999ea5-ddfc-42cf-9a43-acce982f0018",
   "metadata": {},
   "outputs": [],
   "source": [
    "#CNOT\n",
    "one_projector = qt.basis(2,1)*(qt.basis(2,1).dag())\n",
    "zero_projector = qt.basis(2,0)*(qt.basis(2,0).dag())\n",
    "cnot = qt.tensor(zero_projector,qt.qeye(2)) + qt.tensor(one_projector,qt.sigmax())\n",
    "\n",
    "\n",
    "# Two qubit hadamard\n",
    "had = (1/(np.sqrt(2))*qt.Qobj([[1,1],[1,-1]]))\n",
    "had_2 = qt.tensor(had, had)\n",
    "\n",
    "#Two qubit Pauli_x\n",
    "paulix_2 = qt.tensor(qt.sigmax(), qt.sigmax())"
   ]
  },
  {
   "cell_type": "markdown",
   "id": "1c7e6412-75be-4f1f-b6d5-2e4942fc32a8",
   "metadata": {},
   "source": [
    "Dimensions of all three of them is 2 X 2 X 2 X 2"
   ]
  },
  {
   "cell_type": "markdown",
   "id": "20bdcfcd-8203-4252-be97-d03337a8270d",
   "metadata": {},
   "source": [
    "# State vector s"
   ]
  },
  {
   "cell_type": "code",
   "execution_count": 4,
   "id": "5da0cdd6-0a71-44d3-ae15-5533f750d43c",
   "metadata": {},
   "outputs": [],
   "source": [
    "#State vector simulator using tensor product notation\n",
    "#input: number of qubits\n",
    "#output: Simulated state vector\n",
    "def statevector_simulator_2(no_of_qubits):\n",
    "    #size of hilbert space\n",
    "    size = (2**no_of_qubits)\n",
    "\n",
    "    # simulated only for even number of qubits\n",
    "    # since CNOT gate is used\n",
    "    if(no_of_qubits%2==0):\n",
    "        #set initial state to be |00> in tensor notation\n",
    "        ini = qt.tensor(qt.basis(2,0) , qt.basis(2,0))\n",
    "\n",
    "        # Applying three gates sequentially \n",
    "        output_2 = cnot*had_2*paulix_2*ini\n",
    "        out_temp = output_2\n",
    "        output = output_2\n",
    "\n",
    "        #fixing the number of iterations\n",
    "        iterr = round((no_of_qubits-2)/2)\n",
    "\n",
    "        #Starting the time counter\n",
    "        start = time.time()\n",
    "\n",
    "        #Loop to simulate state vector for higher qubits\n",
    "        for i in range(iterr):\n",
    "            output = qt.tensor(out_temp , output_2)\n",
    "            out_temp = output\n",
    "        end = time.time()\n",
    "\n",
    "        #Time interval caluculated after end of loop\n",
    "        intrval = end-start\n",
    "        return output , intrval\n",
    "    else:\n",
    "        print(\"Invalid number of qubits\")\n",
    "\n",
    "\n",
    "#State vector simulator using only two dimensional matrices\n",
    "def statevector_simulator_1(no_of_qubits):\n",
    "    #size of hilbert space\n",
    "    size = (2**no_of_qubits)\n",
    "    if(no_of_qubits%2==0):\n",
    "        #set initial state to be |00> in tensor notation\n",
    "        ini = qt.basis(4 , 0)\n",
    "\n",
    "        #Changing dimensions of gates to make them 2D matrices\n",
    "        cnot.dims = [[4],[4]]\n",
    "        had_2.dims = [[4],[4]]\n",
    "        paulix_2.dims = [[4],[4]]\n",
    "\n",
    "        # Applying three gates sequentially \n",
    "        output_2 = cnot*had_2*paulix_2*ini\n",
    "        out_temp = output_2\n",
    "        output = output_2\n",
    "\n",
    "        #fixing the number of iterations for computing state vector\n",
    "        iterr = round((no_of_qubits-2)/2)\n",
    "\n",
    "        #Loop to simulate state vector for higher qubits\n",
    "        start = time.time()\n",
    "        for i in range(iterr):\n",
    "            output = qt.tensor(out_temp , output_2)\n",
    "            #Changing dimenions of output to make it a 1D vector\n",
    "            dimen = 16*(4**i)\n",
    "            output.dims = [[dimen],[1]]\n",
    "            out_temp = output\n",
    "        #Time interval caluculated after end of loop\n",
    "        end = time.time()\n",
    "        intrval = end-start\n",
    "        return output , intrval\n",
    "    else:\n",
    "        print(\"Invalid number of qubits\")\n"
   ]
  },
  {
   "cell_type": "markdown",
   "id": "68f39936-a7df-4f5c-8063-1ad5f081485a",
   "metadata": {},
   "source": [
    "# State vector simulation using 2D matrix (Sub task -1)"
   ]
  },
  {
   "cell_type": "code",
   "execution_count": 5,
   "id": "b576e328-f1c0-4c60-9180-a1dc9759ff35",
   "metadata": {},
   "outputs": [
    {
     "name": "stderr",
     "output_type": "stream",
     "text": [
      "13it [00:00, 23.39it/s]\n"
     ]
    }
   ],
   "source": [
    "# Time display\n",
    "pbar = tqdm()\n",
    "# Number of qubits\n",
    "noq = 25\n",
    "\n",
    "#List of time intervals \n",
    "time_int_l = []\n",
    "i = 0\n",
    "noq_l = []\n",
    "while(i<noq):\n",
    "    i = i + 2\n",
    "    # Simulating the final state using 2D matrices\n",
    "    a , time_int = statevector_simulator_1(i)\n",
    "    # recording the time take for each iteration\n",
    "    time_int_l.append(time_int)\n",
    "    noq_l.append(i)\n",
    "    pbar.update(1)\n",
    "pbar.close()    "
   ]
  },
  {
   "cell_type": "markdown",
   "id": "3a15d37a-b6b3-491a-b11c-31aa43932433",
   "metadata": {},
   "source": [
    "# State vector simulation using nD tensors (Subtask 2)"
   ]
  },
  {
   "cell_type": "code",
   "execution_count": 6,
   "id": "a20c7f76-f84d-452c-9ff8-d961183e773b",
   "metadata": {},
   "outputs": [],
   "source": [
    "#CNOT\n",
    "one_projector = qt.basis(2,1)*(qt.basis(2,1).dag())\n",
    "zero_projector = qt.basis(2,0)*(qt.basis(2,0).dag())\n",
    "cnot = qt.tensor(zero_projector,qt.qeye(2)) + qt.tensor(one_projector,qt.sigmax())\n",
    "\n",
    "# Two qubit hadamard\n",
    "had = (1/(np.sqrt(2))*qt.Qobj([[1,1],[1,-1]]))\n",
    "had_2 = qt.tensor(had, had)\n",
    "\n",
    "#Two qubit Pauli_x\n",
    "paulix_2 = qt.tensor(qt.sigmax(), qt.sigmax())"
   ]
  },
  {
   "cell_type": "code",
   "execution_count": 7,
   "id": "6d0be08d-5304-4806-8e28-720c1de4add0",
   "metadata": {},
   "outputs": [
    {
     "name": "stderr",
     "output_type": "stream",
     "text": [
      "13it [00:00, 23.22it/s]\n"
     ]
    }
   ],
   "source": [
    "# Time display\n",
    "pbar = tqdm()\n",
    "# Number of qubits\n",
    "noq = 25\n",
    "\n",
    "#List of time intervals \n",
    "time_int_l2 = []\n",
    "i = 0\n",
    "noq_l = []\n",
    "while(i<noq):\n",
    "    i = i + 2\n",
    "    # Simulating the final state using nD tensor\n",
    "    a , time_int = statevector_simulator_2(i)\n",
    "    time_int_l2.append(time_int)\n",
    "    noq_l.append(i)\n",
    "    pbar.update(1)\n",
    "pbar.close()    "
   ]
  },
  {
   "cell_type": "code",
   "execution_count": 8,
   "id": "199c162b-8861-402a-8c78-0ddac78a0370",
   "metadata": {},
   "outputs": [
    {
     "data": {
      "image/png": "[encoded data removed]",
      "text/plain": [
       "<Figure size 500x300 with 1 Axes>"
      ]
     },
     "metadata": {},
     "output_type": "display_data"
    }
   ],
   "source": [
    "#rang = 8\n",
    "rang = len(noq_l)\n",
    "plt.plot(noq_l[0:rang], time_int_l[0:rang] , label = '2D matrix')\n",
    "plt.plot(noq_l[0:rang], time_int_l2[0:rang] , label = 'nD Tensors')\n",
    "plt.xlabel('Number of qubits')\n",
    "plt.ylabel('Simulation time')\n",
    "plt.title('Exponential growth of simulation time')\n",
    "plt.legend()\n",
    "plt.show()\n",
    "#exponential scaling"
   ]
  },
  {
   "cell_type": "markdown",
   "id": "2e5f03ee-da54-43f7-b275-b4bd0b174e15",
   "metadata": {},
   "source": [
    "### Zoom in of previous plot"
   ]
  },
  {
   "cell_type": "code",
   "execution_count": 15,
   "id": "41e1bfd9-29a6-4bdd-a000-dd93e4800434",
   "metadata": {},
   "outputs": [
    {
     "data": {
      "image/png": "[encoded data removed]",
      "text/plain": [
       "<Figure size 500x300 with 1 Axes>"
      ]
     },
     "metadata": {},
     "output_type": "display_data"
    }
   ],
   "source": [
    "rang = 9\n",
    "#rang = len(noq_l)\n",
    "plt.plot(noq_l[0:rang], time_int_l[0:rang] , label = '2D matrix')\n",
    "plt.plot(noq_l[0:rang], time_int_l2[0:rang] , label = 'nD Tensors')\n",
    "plt.xlabel('Number of qubits')\n",
    "plt.ylabel('Simulation time')\n",
    "plt.title('Speed up using nD tensors')\n",
    "plt.legend()\n",
    "plt.show()\n"
   ]
  },
  {
   "cell_type": "markdown",
   "id": "e5d8e617-8091-4284-a603-9402a0a69146",
   "metadata": {},
   "source": [
    "# Key takeaway"
   ]
  },
  {
   "cell_type": "raw",
   "id": "954feb3e-038f-4a8c-a562-96de77b21fbe",
   "metadata": {},
   "source": [
    "In Both methods simulation time scales exponentially \n",
    "After 28 qubits my local machine fails to handle\n",
    "But state vector simulation using tensor products takes much lesser time than using 2D matrices"
   ]
  },
  {
   "cell_type": "markdown",
   "id": "b1e2d8ff-cdea-4f2f-a505-8e4d7d46ee1e",
   "metadata": {},
   "source": [
    "# Bonus Question"
   ]
  },
  {
   "cell_type": "markdown",
   "id": "2b27b0a7-5a6c-4971-a537-f2da159e7f02",
   "metadata": {},
   "source": [
    "### Part-1)"
   ]
  },
  {
   "cell_type": "code",
   "execution_count": 10,
   "id": "ae6a0994-b27e-44c1-ba1a-39d9a83feabc",
   "metadata": {},
   "outputs": [],
   "source": [
    "# works for both tensor representation or 2d notation\n",
    "def exp_value_experimental(state , operator , no_of_shots = 100):\n",
    "    \n",
    "    # list of eigenvalues of the operator \n",
    "    eig_list = operator.eigenenergies()\n",
    "\n",
    "    # counter array to store occurence of each eigenvectore\n",
    "    prob_list = np.zeros(len(eig_list))\n",
    "    \n",
    "    #loop for repeated measurement\n",
    "    for i in tqdm(range(no_of_shots)):\n",
    "        # post measurement state and its corresponding eigenvalue using qutip measure\n",
    "        eig_val ,eig_vect =  measure(state, operator) \n",
    "\n",
    "        #counting occurence of each eigen value and updating the counter\n",
    "        for i in range(len(eig_list)):\n",
    "            if(round(eig_val , 3) == round(eig_list[i] , 3)):\n",
    "                prob_list[i] = prob_list[i] + 1\n",
    "                \n",
    "    if (sum(prob_list) != 0):\n",
    "        #converting counts to probabilities\n",
    "        prob_list = (1/sum(prob_list))*prob_list\n",
    "        \n",
    "        #finding expectation values\n",
    "        exp_val = 0\n",
    "        for i in range(len(eig_list)):\n",
    "            exp_val = exp_val + (eig_list[i]*prob_list[i])\n",
    "        #returns both expectation values and probablity distribution\n",
    "        return exp_val , prob_list\n",
    "    else:\n",
    "        print(\"Incorrect probabilities calculated\")\n",
    "\n",
    "\n"
   ]
  },
  {
   "cell_type": "markdown",
   "id": "62eee59c-db2f-4c5a-a2a7-944479e906d0",
   "metadata": {},
   "source": [
    "### Part 2)"
   ]
  },
  {
   "cell_type": "code",
   "execution_count": 11,
   "id": "d656a4d8-e4de-4148-b15f-9dc3229818e1",
   "metadata": {},
   "outputs": [],
   "source": [
    "def exp_value_exact(state , operator):\n",
    "    #using direct formula\n",
    "    exp_value = np.real((state.dag())*operator*state)\n",
    "    return np.real(exp_value)\n"
   ]
  },
  {
   "cell_type": "markdown",
   "id": "1d441542-941e-4e2f-a576-c07ce221944b",
   "metadata": {},
   "source": [
    "# Example to test expectaion value"
   ]
  },
  {
   "cell_type": "code",
   "execution_count": 12,
   "id": "cb107cca-dda5-4fcd-a83f-89cf4910a533",
   "metadata": {},
   "outputs": [
    {
     "name": "stderr",
     "output_type": "stream",
     "text": [
      "100%|███████████████████████████████████████████| 10/10 [00:00<00:00, 83.42it/s]\n",
      "100%|███████████████████████████████████████████| 30/30 [00:00<00:00, 82.70it/s]\n",
      "100%|███████████████████████████████████████████| 50/50 [00:00<00:00, 83.05it/s]\n",
      "100%|█████████████████████████████████████████| 200/200 [00:02<00:00, 86.02it/s]\n"
     ]
    }
   ],
   "source": [
    "oper = qt.tensor(qt.sigmax() , qt.sigmay(),qt.sigmaz()\\\n",
    "                 ,qt.sigmax(),qt.sigmay(),qt.sigmaz())\n",
    "state, interval = statevector_simulator_2(6)\n",
    "val_10 , prob_list = exp_value_experimental(state , oper , 10)\n",
    "val_30 , prob_list = exp_value_experimental(state , oper , 30)\n",
    "val_50 , prob_list = exp_value_experimental(state , oper , 50)\n",
    "val_200 , prob_list = exp_value_experimental(state , oper , 200)\n",
    "val_act = exp_value_exact(state , oper)\n",
    "\n",
    "error_list = []\n",
    "val_list = [val_10 , val_30 , val_50 , val_200 ]\n",
    "#val_list = [val_10 , val_100 ]\n",
    "for val in val_list:\n",
    "    error = abs(val_act - val)\n",
    "    error_list.append(error)"
   ]
  },
  {
   "cell_type": "code",
   "execution_count": 13,
   "id": "1c07113e-6411-4491-b8ea-bc234f2ce3d1",
   "metadata": {},
   "outputs": [
    {
     "data": {
      "image/png": "[encoded data removed]",
      "text/plain": [
       "<Figure size 500x300 with 1 Axes>"
      ]
     },
     "metadata": {},
     "output_type": "display_data"
    }
   ],
   "source": [
    "no_of_shots = [10 , 30 , 50 , 200]\n",
    "plt.plot(no_of_shots, error_list)\n",
    "plt.xlabel(\"Number of copies of input state\")\n",
    "plt.ylabel(\"Error in expectation value\")\n",
    "plt.title(\"Expectation value errors vs number of copies\")\n",
    "plt.show()"
   ]
  },
  {
   "cell_type": "code",
   "execution_count": null,
   "id": "55db9c44-da7d-4b78-9521-4b5ae7d4b068",
   "metadata": {},
   "outputs": [],
   "source": []
  },
  {
   "cell_type": "code",
   "execution_count": null,
   "id": "92630254-1311-4fba-ae10-653a75b7c786",
   "metadata": {},
   "outputs": [],
   "source": []
  },
  {
   "cell_type": "code",
   "execution_count": null,
   "id": "d31993aa-3a00-40aa-91cc-bd2cc589ddf4",
   "metadata": {},
   "outputs": [],
   "source": []
  },
  {
   "cell_type": "code",
   "execution_count": null,
   "id": "2eaee898-f3d0-4498-a8d0-663e1c918754",
   "metadata": {},
   "outputs": [],
   "source": []
  },
  {
   "cell_type": "code",
   "execution_count": null,
   "id": "ce6acc15-ea4f-41a3-bd7b-91260ff52ea5",
   "metadata": {},
   "outputs": [],
   "source": []
  },
  {
   "cell_type": "code",
   "execution_count": null,
   "id": "8b02c109-5f9d-4aab-9d1c-a5d5d62dfa66",
   "metadata": {},
   "outputs": [],
   "source": []
  },
  {
   "cell_type": "code",
   "execution_count": null,
   "id": "6f22f8b8-99b5-4adf-af01-cfa7d9628315",
   "metadata": {},
   "outputs": [],
   "source": []
  },
  {
   "cell_type": "code",
   "execution_count": null,
   "id": "a2e118fe-5ab4-4f3c-b28c-8c37c62b9f89",
   "metadata": {},
   "outputs": [],
   "source": []
  }
 ],
 "metadata": {
  "kernelspec": {
   "display_name": "Python 3 (ipykernel)",
   "language": "python",
   "name": "python3"
  },
  "language_info": {
   "codemirror_mode": {
    "name": "ipython",
    "version": 3
   },
   "file_extension": ".py",
   "mimetype": "text/x-python",
   "name": "python",
   "nbconvert_exporter": "python",
   "pygments_lexer": "ipython3",
   "version": "3.10.12"
  }
 },
 "nbformat": 4,
 "nbformat_minor": 5
}
